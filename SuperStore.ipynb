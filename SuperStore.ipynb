{
 "cells": [
  {
   "cell_type": "code",
   "execution_count": 1,
   "id": "2e421737",
   "metadata": {},
   "outputs": [],
   "source": [
    "import pandas as pd"
   ]
  },
  {
   "cell_type": "code",
   "execution_count": 2,
   "id": "83b33aed",
   "metadata": {},
   "outputs": [],
   "source": [
    "superstore=pd.read_csv(\"Data/SampleSuperstore.csv\", encoding=\"latin1\")"
   ]
  },
  {
   "cell_type": "code",
   "execution_count": 3,
   "id": "a47a4d9a",
   "metadata": {},
   "outputs": [],
   "source": [
    "# Check and delete the duplicates\n",
    "superstore.drop_duplicates(inplace=True)\n",
    "\n",
    "# Convert 'Order Date' and 'Ship Date' to datetime\n",
    "superstore['Order Date'] = pd.to_datetime(superstore['Order Date'])\n",
    "superstore['Ship Date'] = pd.to_datetime(superstore['Ship Date'])\n",
    "\n",
    "# Save cleaned file\n",
    "superstore.to_csv(\"Data/superstore_cleaned.csv\", index=False)"
   ]
  }
 ],
 "metadata": {
  "kernelspec": {
   "display_name": "base",
   "language": "python",
   "name": "python3"
  },
  "language_info": {
   "codemirror_mode": {
    "name": "ipython",
    "version": 3
   },
   "file_extension": ".py",
   "mimetype": "text/x-python",
   "name": "python",
   "nbconvert_exporter": "python",
   "pygments_lexer": "ipython3",
   "version": "3.12.7"
  }
 },
 "nbformat": 4,
 "nbformat_minor": 5
}
